{
 "cells": [
  {
   "cell_type": "code",
   "execution_count": 1,
   "id": "075ac86f-7a79-426c-81e3-55906b51b57b",
   "metadata": {},
   "outputs": [
    {
     "name": "stdin",
     "output_type": "stream",
     "text": [
      "age 23\n",
      "annual income 34\n",
      "spending score 45\n"
     ]
    },
    {
     "ename": "NameError",
     "evalue": "name 'scaler' is not defined",
     "output_type": "error",
     "traceback": [
      "\u001b[1;31m---------------------------------------------------------------------------\u001b[0m",
      "\u001b[1;31mNameError\u001b[0m                                 Traceback (most recent call last)",
      "Input \u001b[1;32mIn [1]\u001b[0m, in \u001b[0;36m<cell line: 18>\u001b[1;34m()\u001b[0m\n\u001b[0;32m     15\u001b[0m     res \u001b[38;5;241m=\u001b[39m model\u001b[38;5;241m.\u001b[39mpredict(user_data_scale)\n\u001b[0;32m     16\u001b[0m     \u001b[38;5;28mprint\u001b[39m(res)\n\u001b[1;32m---> 18\u001b[0m \u001b[43muser_input\u001b[49m\u001b[43m(\u001b[49m\u001b[43m)\u001b[49m\n",
      "Input \u001b[1;32mIn [1]\u001b[0m, in \u001b[0;36muser_input\u001b[1;34m()\u001b[0m\n\u001b[0;32m     10\u001b[0m user_data[\u001b[38;5;241m1\u001b[39m] \u001b[38;5;241m=\u001b[39m annual_income\n\u001b[0;32m     11\u001b[0m user_data[\u001b[38;5;241m2\u001b[39m] \u001b[38;5;241m=\u001b[39m speding_score\n\u001b[1;32m---> 13\u001b[0m user_data_scale \u001b[38;5;241m=\u001b[39m \u001b[43mscaler\u001b[49m\u001b[38;5;241m.\u001b[39mtransform([user_data])\n\u001b[0;32m     15\u001b[0m res \u001b[38;5;241m=\u001b[39m model\u001b[38;5;241m.\u001b[39mpredict(user_data_scale)\n\u001b[0;32m     16\u001b[0m \u001b[38;5;28mprint\u001b[39m(res)\n",
      "\u001b[1;31mNameError\u001b[0m: name 'scaler' is not defined"
     ]
    }
   ],
   "source": [
    "import numpy as np\n",
    "def user_input():\n",
    "    age = int(input(\"age\"))\n",
    "    annual_income = int(input(\"annual income\"))\n",
    "    speding_score = int(input(\"spending score\"))\n",
    "    \n",
    "    user_data = np.zeros(3)\n",
    "    \n",
    "    user_data[0] = age\n",
    "    user_data[1] = annual_income\n",
    "    user_data[2] = speding_score\n",
    "    \n",
    "    user_data_scale = scaler.transform([user_data])\n",
    "    \n",
    "    res = model.predict(user_data_scale)\n",
    "    print(res)\n",
    "    \n",
    "user_input()   \n",
    "    "
   ]
  },
  {
   "cell_type": "code",
   "execution_count": null,
   "id": "273c075f-4f7f-4039-9225-9889d8245653",
   "metadata": {},
   "outputs": [],
   "source": []
  }
 ],
 "metadata": {
  "kernelspec": {
   "display_name": "Python 3 (ipykernel)",
   "language": "python",
   "name": "python3"
  },
  "language_info": {
   "codemirror_mode": {
    "name": "ipython",
    "version": 3
   },
   "file_extension": ".py",
   "mimetype": "text/x-python",
   "name": "python",
   "nbconvert_exporter": "python",
   "pygments_lexer": "ipython3",
   "version": "3.9.12"
  }
 },
 "nbformat": 4,
 "nbformat_minor": 5
}
